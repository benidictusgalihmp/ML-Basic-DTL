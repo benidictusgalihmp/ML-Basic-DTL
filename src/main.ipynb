{
 "cells": [
  {
   "cell_type": "markdown",
   "metadata": {},
   "source": [
    "# Eksplorasi Library Decision Tree pada Jupyter Notebook\n",
    "Anggota (K03):\n",
    "- Benidictus Galih Mahar Putra  - 13519159\n",
    "- Alvin Wilta                   - 13519163"
   ]
  },
  {
   "cell_type": "markdown",
   "metadata": {},
   "source": [
    "## Load Datasets"
   ]
  },
  {
   "cell_type": "markdown",
   "metadata": {},
   "source": [
    "Library yang digunakan pada notebook ini adalah:\n",
    "- pandas (operasi sederhana pada dataset)\n",
    "- sklearn (modul machine learning)\n",
    "- graphviz (visualisasi tree id3)\n",
    "- id3 (melakukan algoritma id3)\n",
    "- matplotlib (visualisasi tree decision tree classification)\n",
    "- six, sys (menangani konflik dari library id3)"
   ]
  },
  {
   "cell_type": "code",
   "execution_count": null,
   "metadata": {},
   "outputs": [],
   "source": [
    "import pandas as pd\n",
    "import graphviz\n",
    "import matplotlib.pyplot as plt\n",
    "import seaborn as sns\n",
    "from sklearn import datasets, model_selection, tree\n",
    "from sklearn.cluster import KMeans\n",
    "from sklearn.preprocessing import LabelEncoder\n",
    "from sklearn.metrics import accuracy_score, f1_score\n",
    "from sklearn.neural_network import MLPClassifier\n",
    "from sklearn.svm import SVC\n",
    "from sklearn.tree import DecisionTreeClassifier\n",
    "from sklearn.linear_model import LogisticRegression\n",
    "import six\n",
    "import sys\n",
    "sys.modules['sklearn.externals.six'] = six\n",
    "from id3 import Id3Estimator, export_graphviz\n"
   ]
  },
  {
   "cell_type": "code",
   "execution_count": null,
   "metadata": {},
   "outputs": [],
   "source": [
    "# load datasets\n",
    "cancer = datasets.load_breast_cancer(as_frame=True)\n",
    "dttennis = pd.read_csv(\"../data/play_tennis.csv\")"
   ]
  },
  {
   "cell_type": "code",
   "execution_count": null,
   "metadata": {},
   "outputs": [],
   "source": [
    "# copy a dataset \n",
    "dtcancer = cancer.data.copy()\n",
    "dtcancer['res'] = cancer.target"
   ]
  },
  {
   "cell_type": "code",
   "execution_count": null,
   "metadata": {},
   "outputs": [],
   "source": [
    "# Inisialisasi datagrame kosong untuk rekap semua nilai skor\n",
    "recap = pd.DataFrame(columns=['Pembelajaran','Dataset','Tipe','Nilai'])"
   ]
  },
  {
   "cell_type": "code",
   "execution_count": null,
   "metadata": {},
   "outputs": [],
   "source": [
    "# declare function\n",
    "def addToRecap(pemb, cancer_acc, cancer_f1, tennis_acc, tennis_f1):\n",
    "    if len(recap.index) != 0:\n",
    "        if (recap['Pembelajaran'].loc[len(recap.index)-1] == pemb):\n",
    "            recap.drop(recap.tail(4).index, inplace=True)\n",
    "    c = 'Cancer'\n",
    "    t = 'Tennis'\n",
    "    acc = 'Accuracy Score'\n",
    "    f1 = 'F1 Score'\n",
    "    i = len(recap)\n",
    "    recap.loc[i] = [pemb, c, acc, cancer_acc]\n",
    "    recap.loc[i+1] = [pemb, c, f1, cancer_f1]\n",
    "    recap.loc[i+2] = [pemb, t, acc, tennis_acc]\n",
    "    recap.loc[i+3] = [pemb, t, f1, tennis_f1]\n",
    "\n",
    "def simpleDescribe(df: datasets):\n",
    "    print('Jumlah kolom: ' + str(len(df.columns)))\n",
    "    print('Jumlah baris: ' + str(len(df)))\n",
    "    print()\n",
    "    print('Kolom pada tabel:')\n",
    "    print(df.columns.tolist())\n",
    "\n",
    "def printScore(acc, f1):\n",
    "    print('Accuracy   :', acc)\n",
    "    print('F1 Score   :', f1)\n",
    "\n",
    "def printSummary(pemb, cacc, cf1, tacc, tf1):\n",
    "    addToRecap(pemb, cacc, cf1, tacc, tf1)\n",
    "    print('===============================')\n",
    "    print('Cancer Dataset:')\n",
    "    print('Accuracy   :', cacc)\n",
    "    print('F1 Score   :', cf1)\n",
    "    print('===============================')\n",
    "    print('Tennis Dataset')\n",
    "    print('Accuracy   :', tacc)\n",
    "    print('F1 Score   :', tf1)\n",
    "    print('===============================')\n"
   ]
  },
  {
   "cell_type": "markdown",
   "metadata": {},
   "source": [
    "### Data Breast Cancer"
   ]
  },
  {
   "cell_type": "markdown",
   "metadata": {},
   "source": [
    "Sampel data kanker payudara yang disediakan oleh data internal sklearn:"
   ]
  },
  {
   "cell_type": "code",
   "execution_count": null,
   "metadata": {},
   "outputs": [],
   "source": [
    "dtcancer.head()"
   ]
  },
  {
   "cell_type": "code",
   "execution_count": null,
   "metadata": {},
   "outputs": [],
   "source": [
    "simpleDescribe(dtcancer)"
   ]
  },
  {
   "cell_type": "markdown",
   "metadata": {},
   "source": [
    "### Data Tennis\n",
    "Sampel data tennis yang didapatkan dari file eksternal pada folder data: "
   ]
  },
  {
   "cell_type": "code",
   "execution_count": null,
   "metadata": {},
   "outputs": [],
   "source": [
    "dttennis.head()"
   ]
  },
  {
   "cell_type": "code",
   "execution_count": null,
   "metadata": {},
   "outputs": [],
   "source": [
    "simpleDescribe(dttennis)"
   ]
  },
  {
   "cell_type": "markdown",
   "metadata": {},
   "source": [
    "Terdapat beberapa hal penting yang bisa dilihat disini, yaitu:\n",
    "1. Kolom 'day' pada dataset merupakan data hari ke-sekian dan merupakan urutan hari dalam minggu. Untuk bisa mengetahui pola atau pengaruh 'urutan hari' dari sebuah tabel terhadap play adalah dengan melakukan operasi modulo 7 untuk melihat pengaruh hari (senin, selasa, dll) terhadap atribut play. Akan tetapi karena data yang dipakai sangat kecil (14 record) maka kolom ini dapat di-drop karena tidak terlalu berpengaruh.\n",
    "2. Data pada dataset tersebut masih berupa string dan perlu untuk di-encode sesuai dengan kategorinya"
   ]
  },
  {
   "cell_type": "code",
   "execution_count": null,
   "metadata": {},
   "outputs": [],
   "source": [
    "dttennis.drop(columns=['day'], inplace=True)\n",
    "dttennis.head()"
   ]
  },
  {
   "cell_type": "markdown",
   "metadata": {},
   "source": [
    "#### Encode Play Tennis Column"
   ]
  },
  {
   "cell_type": "code",
   "execution_count": null,
   "metadata": {},
   "outputs": [],
   "source": [
    "le = LabelEncoder()\n",
    "dttennis_old = dttennis.copy()\n",
    "for col in dttennis_old[1:]:\n",
    "    dttennis[col] = le.fit_transform(dttennis_old[col])\n",
    "dttennis.head()"
   ]
  },
  {
   "cell_type": "markdown",
   "metadata": {},
   "source": [
    "## Split Dataset"
   ]
  },
  {
   "cell_type": "markdown",
   "metadata": {},
   "source": [
    "### Split into test and train\n",
    "\n",
    "Memisahkan dataset menjadi 2 bagian, test dan train. Pembagian dilakukan secara random dengan 80% data train dan 20% data test."
   ]
  },
  {
   "cell_type": "code",
   "execution_count": null,
   "metadata": {},
   "outputs": [],
   "source": [
    "# Dataset cancer\n",
    "ctrain, ctest = model_selection.train_test_split(dtcancer, test_size=0.2, train_size=0.8, random_state=1)\n",
    "\n",
    "\n",
    "# Dataset tennis\n",
    "tntrain, tntest = model_selection.train_test_split(dttennis, test_size=0.2, train_size=0.8, random_state=1)"
   ]
  },
  {
   "cell_type": "markdown",
   "metadata": {},
   "source": [
    "Kemudian untuk memisahkan atribut yang akan digunakan sebagai parameter dan atribut prediksi, dataset awal akan dibagi menjadi 4 bagian:\n",
    "- **x train:** feature yang akan digunakan untuk train model\n",
    "- **y train:** ground truth (hasil asli)\n",
    "- **x test:** feature yang digunakan untuk diuji oleh model\n",
    "- **y test:** data yang digunakan untuk memvalidasi hasil prediksi"
   ]
  },
  {
   "cell_type": "markdown",
   "metadata": {},
   "source": [
    "### Dataset Cancer"
   ]
  },
  {
   "cell_type": "code",
   "execution_count": null,
   "metadata": {},
   "outputs": [],
   "source": [
    "y = dtcancer['res']\n",
    "x = dtcancer.drop('res', axis=1)\n",
    "\n",
    "x_ctrain, x_ctest, y_ctrain, y_ctest = model_selection.train_test_split(x, y, test_size=0.2, train_size=0.8, random_state=1)"
   ]
  },
  {
   "cell_type": "markdown",
   "metadata": {},
   "source": [
    "### Dataset Tennis"
   ]
  },
  {
   "cell_type": "code",
   "execution_count": null,
   "metadata": {},
   "outputs": [],
   "source": [
    "y = dttennis['play']\n",
    "x = dttennis.drop('play', axis=1)\n",
    "\n",
    "x_tntrain, x_tntest, y_tntrain, y_tntest = model_selection.train_test_split(x, y, test_size=0.2, train_size=0.8, random_state=1)"
   ]
  },
  {
   "cell_type": "markdown",
   "metadata": {},
   "source": [
    "***"
   ]
  },
  {
   "cell_type": "markdown",
   "metadata": {},
   "source": [
    "# Pembelajaran Mesin"
   ]
  },
  {
   "cell_type": "markdown",
   "metadata": {},
   "source": [
    "Pada bagian ini akan ada 2 hal yang dibahas, yaitu akurasi model dan nilai f1 dari model. Berikut adalah definisi dari masing-masing skor:\n",
    "\n",
    "Akurasi model:\n",
    "> Perbandingan antara jumlah data yang benar diprediksi dengan total jumlah data secara keseluruhan. Akurasi memiliki nilai maksimal 1 dan nilai minimal 0. \n",
    "\n",
    "Nilai F1:\n",
    "> Sebuah pengukuran akurasi model terhadap dataset dan biasanya digunakan dalam klasifikasi biner. Nilai F1 juga merupakan sebuah cara untuk menggabungkan *precision* dan *recall* dari sebuah model. Recall dan precision akan berbanding lurus dengan nilai F1."
   ]
  },
  {
   "cell_type": "markdown",
   "metadata": {},
   "source": [
    "## Decision Tree Classifier"
   ]
  },
  {
   "cell_type": "markdown",
   "metadata": {},
   "source": [
    "**Decision Tree Classifier** adalah sebuah metode supervised learning yang digunakan untuk memberikan model yang akan membagi data bergantung dari parameter tertentu.\n",
    "\n",
    "Tahap pembuatan DTC adalah:\n",
    "1. Pilih atribut terbaik menggunakan ASM (Attribute Selection Measures)\n",
    "2. Buat atribut tersebut menjadi decision node dan pecah dataset menjadi lebih kecil\n",
    "3. Ulangi secara rekursif hingga kondisi berikut terpenuhi:\n",
    "    - semua atribut sudah habis\n",
    "    - tidak ada instansi lain lagi\n",
    "    - semua tuple terdapat dalam nilai atribut yang sama\n",
    "\n",
    "Banyak metode ASM yang bisa digunakan, tetapi ASM yang akan dipakai disini adalah *Entropy*."
   ]
  },
  {
   "cell_type": "markdown",
   "metadata": {},
   "source": [
    "### DTC - Breast Cancer Dataset"
   ]
  },
  {
   "cell_type": "markdown",
   "metadata": {},
   "source": [
    "Terdapat 30 parameter yang digunakan antara lain:\n",
    "- mean radius\n",
    "- mean texture \n",
    "- mean perimeter \n",
    "- mean area \n",
    "- mean smoothness \n",
    "- mean compactness \n",
    "- mean concavity \n",
    "- mean concave points \n",
    "- mean symmetry \n",
    "- mean fractal dimension \n",
    "- radius error \n",
    "- texture error \n",
    "- perimeter error \n",
    "- area error \n",
    "- smoothness error \n",
    "- compactness error \n",
    "- concavity error \n",
    "- concave points error \n",
    "- symmetry error \n",
    "- fractal dimension error \n",
    "- worst radius \n",
    "- worst texture \n",
    "- worst perimeter \n",
    "- worst area \n",
    "- worst smoothness \n",
    "- worst compactness \n",
    "- worst concavity \n",
    "- worst concave points \n",
    "- worst symmetry \n",
    "- worst fractal dimension"
   ]
  },
  {
   "cell_type": "markdown",
   "metadata": {},
   "source": [
    "Kemudian dilakukan prediksi dengan criterion berupa entropy pada kode di bawah ini dan didapatkan akurasi beserta F1 dari hasil training model untuk memprediksi kanker."
   ]
  },
  {
   "cell_type": "code",
   "execution_count": null,
   "metadata": {},
   "outputs": [],
   "source": [
    "clf_c = DecisionTreeClassifier(criterion='entropy')\n",
    "clf_c = clf_c.fit(x_ctrain,y_ctrain)\n",
    "y_cpred = clf_c.predict(x_ctest)\n",
    "c_dtc_acc = accuracy_score(y_ctest,y_cpred)\n",
    "c_dtc_f1 = f1_score(y_ctest,y_cpred)\n",
    "printScore(c_dtc_acc, c_dtc_f1)"
   ]
  },
  {
   "cell_type": "markdown",
   "metadata": {},
   "source": [
    "Berikut di bawah ini adalah ilustrasi decision tree yang dihasilkan dari pembelajaran mesin Decision Tree Classifier menggunakan library matplotlib. warna biru pada leaf node menandakan **benign**, sedangkan warna orange pada leaf node menandakan **malignant**"
   ]
  },
  {
   "cell_type": "code",
   "execution_count": null,
   "metadata": {},
   "outputs": [],
   "source": [
    "# Export text (textual)\n",
    "# model = tree.export_text(clf_c)\n",
    "# print(model)\n",
    "fig = plt.figure(figsize=(40,40))\n",
    "_ = tree.plot_tree(clf_c,feature_names=cancer.feature_names, class_names=cancer.target_names, filled=True)"
   ]
  },
  {
   "cell_type": "markdown",
   "metadata": {},
   "source": [
    "Jalankan kode di bawah ini untuk menyimpan gambar figure:"
   ]
  },
  {
   "cell_type": "code",
   "execution_count": null,
   "metadata": {},
   "outputs": [],
   "source": [
    "fig.savefig(\"../img/cancer_dtc.png\")"
   ]
  },
  {
   "cell_type": "markdown",
   "metadata": {},
   "source": [
    "### DTC - Tennis Dataset"
   ]
  },
  {
   "cell_type": "markdown",
   "metadata": {},
   "source": [
    "Terdapat 4 parameter yang digunakan, antara lain:\n",
    "- outlook \n",
    "- temp \n",
    "- humidity \n",
    "- wind "
   ]
  },
  {
   "cell_type": "code",
   "execution_count": null,
   "metadata": {},
   "outputs": [],
   "source": [
    "clf_t = DecisionTreeClassifier(criterion='entropy')\n",
    "clf_t = clf_t.fit(x_tntrain, y_tntrain)\n",
    "y_tnpred = clf_t.predict(x_tntest)\n",
    "t_dtc_acc = accuracy_score(y_tntest,y_tnpred)\n",
    "t_dtc_f1 = f1_score(y_tntest,y_tnpred)\n",
    "printScore(t_dtc_acc, t_dtc_f1)"
   ]
  },
  {
   "cell_type": "markdown",
   "metadata": {},
   "source": [
    "Berikut di bawah ini adalah ilustrasi decision tree yang dihasilkan dari pembelajaran mesin Decision Tree Classifier menggunakan library matplotlib pada dateset tennis. warna biru pada leaf node menandakan **No**, sedangkan warna orange pada leaf node menandakan **Yes**"
   ]
  },
  {
   "cell_type": "code",
   "execution_count": null,
   "metadata": {},
   "outputs": [],
   "source": [
    "fig = plt.figure(figsize=(40,20))\n",
    "_ = tree.plot_tree(clf_t,feature_names=dttennis.columns[:-1], class_names=['No','Yes'], filled=True)"
   ]
  },
  {
   "cell_type": "code",
   "execution_count": null,
   "metadata": {},
   "outputs": [],
   "source": [
    "fig.savefig(\"../img/tennis_dtc.png\")"
   ]
  },
  {
   "cell_type": "markdown",
   "metadata": {},
   "source": [
    "### DTC - Analisis Prediksi"
   ]
  },
  {
   "cell_type": "code",
   "execution_count": null,
   "metadata": {},
   "outputs": [],
   "source": [
    "printSummary('DTC',c_dtc_acc, c_dtc_f1, t_dtc_acc, t_dtc_f1)"
   ]
  },
  {
   "cell_type": "markdown",
   "metadata": {},
   "source": [
    "Dataset kanker:\n",
    "- Dataset kanker memiliki akurasi yang cukup tinggi dengan skor akurasi >0.9 yang artinya memiliki akurasi mendekati 90%.\n",
    "- Dataset kanker memiliki nilai F1 yang cukup tinggi dengan skor akurasi >0.9 yang artinya data cenderung masih seimbang sehingga false negative ataupun ataupun false positive bisa dihindari dengan menggunakan dataset saat ini untuk training.  \n",
    "\n",
    "Dataset tennis:\n",
    "- Dataset tennis memiliki akurasi yang cukup rendah dengan skor akurasi ~0.66. Hal ini juga bisa disebabkan karena sedikitnya dataset yang dimiliki sehingga kesalahan kecil akan sangat berdampak pada akurasi.\n",
    "- Dataset tennis memiliki nilai F1 yang cukup rendah juga karena jumlah data pada dataset yang relatif sedikit sehingga perbedaan 1 record akan berpengaruh besar terhadap *outcome* dari hasil training\n",
    "- Penggunaan *Decision Tree Classifier* kurang cocok untuk memprediksi dataset tenis karena akan menganggap label sebagai sebuah nilai parameter yang kontinu"
   ]
  },
  {
   "cell_type": "markdown",
   "metadata": {},
   "source": [
    "## ID3 Estimator"
   ]
  },
  {
   "cell_type": "markdown",
   "metadata": {},
   "source": [
    "ID3 Algorithm - Iterative Dichotomiser 3\n",
    "> Algoritma klasitikasi yang menggunakan pendekatan *greedy algorithm* untuk membentuk *decision tree* dengan mencari atribut yang memiliki *information gain* terbesar (atau entropi terkecil)"
   ]
  },
  {
   "cell_type": "markdown",
   "metadata": {},
   "source": [
    "Tahapan dalam algoritma ID3:\n",
    "1. Kalkulasi entropi dari dataset\n",
    "2. Untuk setiap atribut/*feature*:\n",
    "    1. Hitung entropi dari semua nilai kategorikalnya\n",
    "    2. Hitung *information gain* dari featurenya\n",
    "3. Cari *feature* dengan *information gain* terbesar\n",
    "4. Ulangi hingga habis dan terbentuk decision tree yang diinginkan"
   ]
  },
  {
   "cell_type": "markdown",
   "metadata": {},
   "source": [
    "### ID3 - Breast Cancer Dataset"
   ]
  },
  {
   "cell_type": "code",
   "execution_count": null,
   "metadata": {},
   "outputs": [],
   "source": [
    "estimator = Id3Estimator()\n",
    "estimator = estimator.fit(x_ctrain, y_ctrain)\n",
    "y_cpred = estimator.predict(x_ctest)\n",
    "c_id3_acc = accuracy_score(y_ctest, y_cpred)\n",
    "c_id3_f1 = f1_score(y_ctest, y_cpred)\n",
    "printScore(c_id3_acc, c_id3_f1)"
   ]
  },
  {
   "cell_type": "markdown",
   "metadata": {},
   "source": [
    "Berikut di bawah ini adalah ilustrasi decision tree yang dihasilkan dari pembelajaran mesin IM3 menggunakan library graphviz."
   ]
  },
  {
   "cell_type": "code",
   "execution_count": null,
   "metadata": {},
   "outputs": [],
   "source": [
    "tree = export_graphviz(estimator.tree_, '../graph/c_id3.dot', cancer.feature_names)\n",
    "graphviz.Source.from_file('../graph/c_id3.dot')"
   ]
  },
  {
   "cell_type": "markdown",
   "metadata": {},
   "source": [
    "### ID3 - Tennis Dataset"
   ]
  },
  {
   "cell_type": "code",
   "execution_count": null,
   "metadata": {},
   "outputs": [],
   "source": [
    "estimator = Id3Estimator()\n",
    "estimator = estimator.fit(x_tntrain, y_tntrain)\n",
    "y_tnpred = estimator.predict(x_tntest)\n",
    "t_id3_acc = accuracy_score(y_tntest, y_tnpred)\n",
    "t_id3_f1 = f1_score(y_tntest, y_tnpred)\n",
    "printScore(t_id3_acc, t_id3_f1)"
   ]
  },
  {
   "cell_type": "markdown",
   "metadata": {},
   "source": [
    "Berikut di bawah ini adalah ilustrasi decision tree yang dihasilkan dari pembelajaran mesin IM3 menggunakan library graphviz."
   ]
  },
  {
   "cell_type": "code",
   "execution_count": null,
   "metadata": {},
   "outputs": [],
   "source": [
    "tree = export_graphviz(estimator.tree_, '../graph/t_id3.dot', dttennis.columns[:-1])\n",
    "graphviz.Source.from_file('../graph/t_id3.dot')"
   ]
  },
  {
   "cell_type": "markdown",
   "metadata": {},
   "source": [
    "### ID3 - Analisis Prediksi"
   ]
  },
  {
   "cell_type": "code",
   "execution_count": null,
   "metadata": {},
   "outputs": [],
   "source": [
    "printSummary('ID3',c_id3_acc, c_id3_f1, t_id3_acc, t_id3_f1)"
   ]
  },
  {
   "cell_type": "markdown",
   "metadata": {},
   "source": [
    "***Tulis Analisis ID3***"
   ]
  },
  {
   "cell_type": "code",
   "execution_count": null,
   "metadata": {},
   "outputs": [],
   "source": [
    "recap"
   ]
  },
  {
   "cell_type": "markdown",
   "metadata": {},
   "source": [
    "## KMeans"
   ]
  },
  {
   "cell_type": "markdown",
   "metadata": {},
   "source": [
    "Penjelasan KMeans"
   ]
  },
  {
   "cell_type": "code",
   "execution_count": null,
   "metadata": {},
   "outputs": [],
   "source": [
    "# create model\n",
    "c_kmeans = KMeans(n_clusters=2, random_state=42).fit(x_ctrain)\n",
    "c_kmeanspredict = c_kmeans.predict(x_ctest)\n",
    "\n",
    "tn_kmeans = KMeans(n_clusters=2, random_state=42).fit(x_tntrain)\n",
    "tn_kmeanspredict = tn_kmeans.predict(x_tntest)"
   ]
  },
  {
   "cell_type": "markdown",
   "metadata": {},
   "source": [
    "### KMeans - Breast Cancer Dataset"
   ]
  },
  {
   "cell_type": "code",
   "execution_count": null,
   "metadata": {},
   "outputs": [],
   "source": [
    "# accuracy and f1 score\n",
    "c_kmeansAccScore = accuracy_score(y_ctest, c_kmeanspredict)\n",
    "c_kmeansF1Score = f1_score(y_ctest, c_kmeanspredict, average='weighted')"
   ]
  },
  {
   "cell_type": "code",
   "execution_count": null,
   "metadata": {},
   "outputs": [],
   "source": [
    "printScore(c_kmeansAccScore, c_kmeansF1Score)"
   ]
  },
  {
   "cell_type": "code",
   "execution_count": null,
   "metadata": {},
   "outputs": [],
   "source": [
    "# visualize Breast Cancer model"
   ]
  },
  {
   "cell_type": "markdown",
   "metadata": {},
   "source": [
    "### KMeans - Tennis Dataset"
   ]
  },
  {
   "cell_type": "code",
   "execution_count": null,
   "metadata": {},
   "outputs": [],
   "source": [
    "tn_kmeansAccScore = accuracy_score(y_tntest, tn_kmeanspredict)\n",
    "tn_kmeansF1Score = f1_score(y_tntest, tn_kmeanspredict)"
   ]
  },
  {
   "cell_type": "code",
   "execution_count": null,
   "metadata": {},
   "outputs": [],
   "source": [
    "printScore(tn_kmeansAccScore, tn_kmeansF1Score)"
   ]
  },
  {
   "cell_type": "code",
   "execution_count": null,
   "metadata": {},
   "outputs": [],
   "source": [
    "# visualize Tennis model"
   ]
  },
  {
   "cell_type": "markdown",
   "metadata": {},
   "source": [
    "### KMeans - Analisis Prediksi"
   ]
  },
  {
   "cell_type": "code",
   "execution_count": null,
   "metadata": {},
   "outputs": [],
   "source": [
    "printSummary('KMeans',c_kmeansAccScore, c_kmeansF1Score, tn_kmeansAccScore, tn_kmeansF1Score)"
   ]
  },
  {
   "cell_type": "markdown",
   "metadata": {},
   "source": [
    "## Logistic Regression"
   ]
  },
  {
   "cell_type": "markdown",
   "metadata": {},
   "source": [
    "Penjelasan Logistic Regression"
   ]
  },
  {
   "cell_type": "markdown",
   "metadata": {},
   "source": [
    "### Logistic Regression - Breast Cancer Dataset"
   ]
  },
  {
   "cell_type": "code",
   "execution_count": null,
   "metadata": {},
   "outputs": [],
   "source": [
    "logreg = LogisticRegression(max_iter=10000)\n",
    "logreg = logreg.fit(x_ctrain,y_ctrain)\n",
    "y_cpred = logreg.predict(x_ctest)\n",
    "c_logreg_acc = accuracy_score(y_ctest, y_cpred)\n",
    "c_logreg_f1 = f1_score(y_ctest,y_cpred)"
   ]
  },
  {
   "cell_type": "code",
   "execution_count": null,
   "metadata": {},
   "outputs": [],
   "source": [
    "printScore(c_logreg_acc, c_logreg_f1)"
   ]
  },
  {
   "cell_type": "markdown",
   "metadata": {},
   "source": [
    "### Logistic Regression - Tennis Dataset"
   ]
  },
  {
   "cell_type": "code",
   "execution_count": null,
   "metadata": {},
   "outputs": [],
   "source": [
    "logreg = LogisticRegression(max_iter=10000)\n",
    "logreg = logreg.fit(x_tntrain,y_tntrain)\n",
    "y_tnpred = logreg.predict(x_tntest)\n",
    "t_logreg_acc = accuracy_score(y_tntest, y_tnpred)\n",
    "t_logreg_f1 = f1_score(y_tntest,y_tnpred)"
   ]
  },
  {
   "cell_type": "code",
   "execution_count": null,
   "metadata": {},
   "outputs": [],
   "source": [
    "printScore(t_logreg_acc, t_logreg_f1)"
   ]
  },
  {
   "cell_type": "markdown",
   "metadata": {},
   "source": [
    "### Logistic Regression - Analisis Prediksi"
   ]
  },
  {
   "cell_type": "code",
   "execution_count": null,
   "metadata": {},
   "outputs": [],
   "source": [
    "printSummary('Logistc Regression',c_logreg_acc, c_logreg_f1, t_logreg_acc, t_logreg_f1)"
   ]
  },
  {
   "cell_type": "markdown",
   "metadata": {},
   "source": [
    "## Neural Network"
   ]
  },
  {
   "cell_type": "markdown",
   "metadata": {},
   "source": [
    "Penjelasan Neural Network"
   ]
  },
  {
   "cell_type": "code",
   "execution_count": null,
   "metadata": {},
   "outputs": [],
   "source": [
    "# create model\n",
    "clf = MLPClassifier(random_state=1, max_iter=2000)\n",
    "\n",
    "c_neural = clf.fit(x_ctrain, y_ctrain)\n",
    "c_neuralpredict = c_neural.predict(x_ctest)\n",
    "\n",
    "tn_neural = clf.fit(x_tntrain, y_tntrain)\n",
    "tn_neuralpredict = tn_neural.predict(x_tntest)"
   ]
  },
  {
   "cell_type": "markdown",
   "metadata": {},
   "source": [
    "### Neural Network - Breast Cancer Dataset"
   ]
  },
  {
   "cell_type": "code",
   "execution_count": null,
   "metadata": {},
   "outputs": [],
   "source": [
    "# accuracy and f1 score\n",
    "c_neuralAccScore = accuracy_score(y_ctest, c_neuralpredict)\n",
    "c_neuralF1Score = f1_score(y_ctest, c_neuralpredict)"
   ]
  },
  {
   "cell_type": "code",
   "execution_count": null,
   "metadata": {},
   "outputs": [],
   "source": [
    "printScore(c_neuralAccScore, c_neuralF1Score)"
   ]
  },
  {
   "cell_type": "code",
   "execution_count": null,
   "metadata": {},
   "outputs": [],
   "source": [
    "# visualize Breast Cancer model"
   ]
  },
  {
   "cell_type": "markdown",
   "metadata": {},
   "source": [
    "### Neural Network - Tennis Dataset"
   ]
  },
  {
   "cell_type": "code",
   "execution_count": null,
   "metadata": {},
   "outputs": [],
   "source": [
    "# accuracy and f1 score\n",
    "tn_neuralAccScore = accuracy_score(y_tntest, tn_neuralpredict)\n",
    "tn_neuralF1Score = f1_score(y_tntest, tn_neuralpredict)"
   ]
  },
  {
   "cell_type": "code",
   "execution_count": null,
   "metadata": {},
   "outputs": [],
   "source": [
    "printScore(tn_neuralAccScore, tn_neuralF1Score)"
   ]
  },
  {
   "cell_type": "code",
   "execution_count": null,
   "metadata": {},
   "outputs": [],
   "source": [
    "# visualize Tennis model"
   ]
  },
  {
   "cell_type": "markdown",
   "metadata": {},
   "source": [
    "### Neural Network - Analisis Prediksi"
   ]
  },
  {
   "cell_type": "code",
   "execution_count": null,
   "metadata": {},
   "outputs": [],
   "source": [
    "printSummary('Neural Network', c_neuralAccScore, c_neuralF1Score, tn_neuralAccScore, tn_neuralF1Score)"
   ]
  },
  {
   "cell_type": "markdown",
   "metadata": {},
   "source": [
    "## SVM"
   ]
  },
  {
   "cell_type": "markdown",
   "metadata": {},
   "source": [
    "Penjelasan SVM"
   ]
  },
  {
   "cell_type": "code",
   "execution_count": null,
   "metadata": {},
   "outputs": [],
   "source": [
    "# create model\n",
    "svc = SVC(C=1, kernel='linear')\n",
    "\n",
    "c_svc = svc.fit(x_ctrain, y_ctrain)\n",
    "c_svcpredict = c_svc.predict(x_ctest)\n",
    "\n",
    "tn_svc = svc.fit(x_tntrain, y_tntrain)\n",
    "tn_svcpredict = tn_svc.predict(x_tntest)"
   ]
  },
  {
   "cell_type": "markdown",
   "metadata": {},
   "source": [
    "### SVM - Breast Cancer Dataset"
   ]
  },
  {
   "cell_type": "code",
   "execution_count": null,
   "metadata": {},
   "outputs": [],
   "source": [
    "# accuracy and f1 score\n",
    "c_svcAccScore = accuracy_score(y_ctest, c_svcpredict)\n",
    "c_svcF1Score = f1_score(y_ctest, c_svcpredict)"
   ]
  },
  {
   "cell_type": "code",
   "execution_count": null,
   "metadata": {},
   "outputs": [],
   "source": [
    "printScore(c_svcAccScore, c_svcF1Score)"
   ]
  },
  {
   "cell_type": "code",
   "execution_count": null,
   "metadata": {},
   "outputs": [],
   "source": [
    "# visualize Breast Cancer model"
   ]
  },
  {
   "cell_type": "markdown",
   "metadata": {},
   "source": [
    "### SVM - Tennis Dataset"
   ]
  },
  {
   "cell_type": "code",
   "execution_count": null,
   "metadata": {},
   "outputs": [],
   "source": [
    "tn_svcvAccScore = accuracy_score(y_tntest, tn_svcpredict)\n",
    "tn_svcF1Score = f1_score(y_tntest, tn_svcpredict)"
   ]
  },
  {
   "cell_type": "code",
   "execution_count": null,
   "metadata": {},
   "outputs": [],
   "source": [
    "printScore(tn_svcvAccScore, tn_svcF1Score)"
   ]
  },
  {
   "cell_type": "code",
   "execution_count": null,
   "metadata": {},
   "outputs": [],
   "source": [
    "# visualize Tennis model"
   ]
  },
  {
   "cell_type": "markdown",
   "metadata": {},
   "source": [
    "### SVM - Analisis Prediksi"
   ]
  },
  {
   "cell_type": "code",
   "execution_count": null,
   "metadata": {},
   "outputs": [],
   "source": [
    "printSummary('SVM',c_svcAccScore, c_svcF1Score, tn_svcvAccScore, tn_svcF1Score)"
   ]
  },
  {
   "cell_type": "markdown",
   "metadata": {},
   "source": [
    "---"
   ]
  },
  {
   "cell_type": "markdown",
   "metadata": {},
   "source": [
    "# Kesimpulan"
   ]
  },
  {
   "cell_type": "code",
   "execution_count": null,
   "metadata": {},
   "outputs": [],
   "source": [
    "recap"
   ]
  },
  {
   "cell_type": "markdown",
   "metadata": {},
   "source": [
    "lorem ipsum"
   ]
  }
 ],
 "metadata": {
  "interpreter": {
   "hash": "b6d570e0bddad95a91b7d64ff4e18fac5e973bd3826c845a12416973f5621334"
  },
  "kernelspec": {
   "display_name": "Python 3.9.7 64-bit",
   "language": "python",
   "name": "python3"
  },
  "language_info": {
   "codemirror_mode": {
    "name": "ipython",
    "version": 3
   },
   "file_extension": ".py",
   "mimetype": "text/x-python",
   "name": "python",
   "nbconvert_exporter": "python",
   "pygments_lexer": "ipython3",
   "version": "3.9.7"
  },
  "orig_nbformat": 4
 },
 "nbformat": 4,
 "nbformat_minor": 2
}
