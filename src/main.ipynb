{
 "cells": [
  {
   "cell_type": "code",
   "execution_count": 1,
   "metadata": {},
   "outputs": [],
   "source": [
    "import copy\n",
    "import pandas as pd\n",
    "from sklearn import datasets, model_selection\n",
    "from sklearn.cluster import KMeans\n",
    "from sklearn.preprocessing import LabelEncoder\n",
    "from sklearn.metrics import accuracy_score, f1_score\n",
    "from sklearn.neural_network import MLPClassifier\n",
    "from sklearn.svm import SVC"
   ]
  },
  {
   "cell_type": "markdown",
   "metadata": {},
   "source": [
    "<h3>Load Datasets</h3>"
   ]
  },
  {
   "cell_type": "code",
   "execution_count": 2,
   "metadata": {},
   "outputs": [],
   "source": [
    "cancer = datasets.load_breast_cancer()\n",
    "dtcancer = pd.DataFrame(data=cancer.data, columns=cancer.feature_names)\n",
    "_dttennis = pd.read_csv(\"../data/play_tennis.csv\")"
   ]
  },
  {
   "cell_type": "markdown",
   "metadata": {},
   "source": [
    "<h3>Encode Play Tennis Column</h3>"
   ]
  },
  {
   "cell_type": "code",
   "execution_count": 3,
   "metadata": {},
   "outputs": [],
   "source": [
    "le = LabelEncoder()\n",
    "dttennis = copy.deepcopy(_dttennis)\n",
    "for col in dttennis:\n",
    "    dttennis[col] = le.fit_transform(dttennis[col])"
   ]
  },
  {
   "cell_type": "markdown",
   "metadata": {},
   "source": [
    "<h3>Split Datasets</h3>"
   ]
  },
  {
   "cell_type": "code",
   "execution_count": 4,
   "metadata": {},
   "outputs": [],
   "source": [
    "# split into two data variables (train and test)\n",
    "ctrain, ctest = model_selection.train_test_split(dtcancer, test_size=0.2, train_size=0.8, random_state=1)\n",
    "tntrain, tntest = model_selection.train_test_split(dttennis, test_size=0.2, train_size=0.8, random_state=1)"
   ]
  },
  {
   "cell_type": "code",
   "execution_count": 5,
   "metadata": {},
   "outputs": [],
   "source": [
    "### split into four data variables (x_train, x_test, y_train, and y_test)\n",
    "# Dataset Cancer\n",
    "##################\n",
    "y = dtcancer['worst fractal dimension']\n",
    "x = dtcancer.drop('worst fractal dimension', axis=1)\n",
    "\n",
    "x_ctrain, x_ctest, y_ctrain, y_ctest = model_selection.train_test_split(x, y, test_size=0.2, train_size=0.8, random_state=1)\n",
    "\n",
    "###\n",
    "# Dataset Tennis\n",
    "##################\n",
    "y = dttennis['play']\n",
    "x = dttennis.drop('play', axis=1)\n",
    "\n",
    "x_tntrain, x_tntest, y_tntrain, y_tntest = model_selection.train_test_split(x, y, test_size=0.2, train_size=0.8, random_state=1)"
   ]
  },
  {
   "cell_type": "markdown",
   "metadata": {},
   "source": [
    "<h3>Decision Tree Classifier</h3>"
   ]
  },
  {
   "cell_type": "code",
   "execution_count": null,
   "metadata": {},
   "outputs": [],
   "source": []
  },
  {
   "cell_type": "markdown",
   "metadata": {},
   "source": [
    "<h3>Id3 Estimator</h3>"
   ]
  },
  {
   "cell_type": "code",
   "execution_count": null,
   "metadata": {},
   "outputs": [],
   "source": []
  },
  {
   "cell_type": "markdown",
   "metadata": {},
   "source": [
    "<h3>KMeans</h3>"
   ]
  },
  {
   "cell_type": "code",
   "execution_count": 6,
   "metadata": {},
   "outputs": [],
   "source": [
    "ckmeans = KMeans(n_clusters=2, random_state=42).fit(ctrain)\n",
    "ckmeanspredict = ckmeans.predict(ctest)\n",
    "\n",
    "tnkmeans = KMeans(n_clusters=2, random_state=42).fit(tntrain)\n",
    "tnkmeanspredict = tnkmeans.predict(tntest)\n",
    "\n",
    "# accuracy_score(ckmeans.labels_, ckmeanspredict, normalize=False)\n",
    "# f1_score(ckmeans.labels_, ckmeanspredict)"
   ]
  },
  {
   "cell_type": "markdown",
   "metadata": {},
   "source": [
    "<h3>Logistic Regression</h3>"
   ]
  },
  {
   "cell_type": "code",
   "execution_count": null,
   "metadata": {},
   "outputs": [],
   "source": []
  },
  {
   "cell_type": "markdown",
   "metadata": {},
   "source": [
    "<h3>Neural Network</h3>"
   ]
  },
  {
   "cell_type": "code",
   "execution_count": 7,
   "metadata": {},
   "outputs": [
    {
     "data": {
      "text/plain": [
       "0.3333333333333333"
      ]
     },
     "execution_count": 7,
     "metadata": {},
     "output_type": "execute_result"
    }
   ],
   "source": [
    "clf = MLPClassifier(random_state=1, max_iter=2000)\n",
    "\n",
    "# cNeural = clf.fit(x_ctrain, y_ctrain)\n",
    "# cNeuralpredict = cNeural.predict(x_ctest)\n",
    "\n",
    "tnNeural = clf.fit(x_tntrain, y_tntrain)\n",
    "tnNeuralpredict = tnNeural.predict(x_tntest)\n",
    "\n",
    "tnNeural.score(x_tntest, y_tntest)"
   ]
  },
  {
   "cell_type": "markdown",
   "metadata": {},
   "source": [
    "<h3>SVM</h3>"
   ]
  },
  {
   "cell_type": "code",
   "execution_count": 8,
   "metadata": {},
   "outputs": [],
   "source": [
    "# to do tomorrow\n",
    "svc = SVC(C=1, kernel='linear')\n",
    "\n",
    "# c_svc = svc.fit(x_ctrain, y_ctrain)\n",
    "# c_svcpredict = c_svc.predict(x_ctest)\n",
    "\n",
    "tn_svc = svc.fit(x_tntrain, y_tntrain)\n",
    "tn_svcpredict = tn_svc.predict(x_tntest)"
   ]
  }
 ],
 "metadata": {
  "interpreter": {
   "hash": "b6d570e0bddad95a91b7d64ff4e18fac5e973bd3826c845a12416973f5621334"
  },
  "kernelspec": {
   "display_name": "Python 3.9.7 64-bit",
   "language": "python",
   "name": "python3"
  },
  "language_info": {
   "codemirror_mode": {
    "name": "ipython",
    "version": 3
   },
   "file_extension": ".py",
   "mimetype": "text/x-python",
   "name": "python",
   "nbconvert_exporter": "python",
   "pygments_lexer": "ipython3",
   "version": "3.9.7"
  },
  "orig_nbformat": 4
 },
 "nbformat": 4,
 "nbformat_minor": 2
}
